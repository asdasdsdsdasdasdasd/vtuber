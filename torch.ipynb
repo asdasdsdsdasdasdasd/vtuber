{
 "cells": [
  {
   "cell_type": "markdown",
   "id": "096cf1c9",
   "metadata": {},
   "source": [
    "pip install llama-cpp-python"
   ]
  },
  {
   "cell_type": "code",
   "execution_count": 2,
   "id": "89f9dae0",
   "metadata": {},
   "outputs": [],
   "source": [
    "from llama_cpp import Llama"
   ]
  },
  {
   "cell_type": "code",
   "execution_count": 5,
   "id": "89600716",
   "metadata": {},
   "outputs": [
    {
     "data": {
      "text/plain": [
       "'NVIDIA GeForce RTX 2080 SUPER'"
      ]
     },
     "execution_count": 5,
     "metadata": {},
     "output_type": "execute_result"
    }
   ],
   "source": []
  },
  {
   "cell_type": "code",
   "execution_count": 5,
   "id": "26359fa2",
   "metadata": {},
   "outputs": [],
   "source": [
    "model_path = \"F:/download/llama-2-13b-chat.Q5_K_M.gguf\""
   ]
  },
  {
   "cell_type": "code",
   "execution_count": 6,
   "id": "109c81d2",
   "metadata": {},
   "outputs": [
    {
     "name": "stderr",
     "output_type": "stream",
     "text": [
      "AVX = 1 | AVX2 = 1 | AVX512 = 0 | AVX512_VBMI = 0 | AVX512_VNNI = 0 | FMA = 1 | NEON = 0 | ARM_FMA = 0 | F16C = 1 | FP16_VA = 0 | WASM_SIMD = 0 | BLAS = 0 | SSE3 = 1 | SSSE3 = 0 | VSX = 0 | \n"
     ]
    }
   ],
   "source": [
    "llm=Llama(model_path=model_path)"
   ]
  },
  {
   "cell_type": "code",
   "execution_count": 10,
   "id": "b466befa",
   "metadata": {},
   "outputs": [
    {
     "name": "stderr",
     "output_type": "stream",
     "text": [
      "Llama.generate: prefix-match hit\n"
     ]
    },
    {
     "data": {
      "text/plain": [
       "{'id': 'cmpl-d966c582-a2d8-4064-af70-f6b9e47dd631',\n",
       " 'object': 'text_completion',\n",
       " 'created': 1704372909,\n",
       " 'model': 'F:/download/llama-2-13b-chat.Q5_K_M.gguf',\n",
       " 'choices': [{'text': ' in the legal profession?\\nLLM stands for Master of Laws, which',\n",
       "   'index': 0,\n",
       "   'logprobs': None,\n",
       "   'finish_reason': 'length'}],\n",
       " 'usage': {'prompt_tokens': 11, 'completion_tokens': 16, 'total_tokens': 27}}"
      ]
     },
     "execution_count": 10,
     "metadata": {},
     "output_type": "execute_result"
    }
   ],
   "source": [
    "llm(\"what is llm and how do we use it\")"
   ]
  },
  {
   "cell_type": "code",
   "execution_count": 12,
   "id": "9086d7fc",
   "metadata": {},
   "outputs": [],
   "source": [
    "Llama??"
   ]
  },
  {
   "cell_type": "code",
   "execution_count": null,
   "id": "140d0017",
   "metadata": {},
   "outputs": [],
   "source": []
  }
 ],
 "metadata": {
  "kernelspec": {
   "display_name": "Python 3 (ipykernel)",
   "language": "python",
   "name": "python3"
  },
  "language_info": {
   "codemirror_mode": {
    "name": "ipython",
    "version": 3
   },
   "file_extension": ".py",
   "mimetype": "text/x-python",
   "name": "python",
   "nbconvert_exporter": "python",
   "pygments_lexer": "ipython3",
   "version": "3.11.4"
  }
 },
 "nbformat": 4,
 "nbformat_minor": 5
}
